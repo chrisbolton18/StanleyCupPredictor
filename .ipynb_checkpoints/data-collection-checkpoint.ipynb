{
 "cells": [
  {
   "cell_type": "code",
   "execution_count": null,
   "id": "b87a6390-011c-4962-a400-b80a60ad0ba5",
   "metadata": {},
   "outputs": [],
   "source": [
    "import pandas as pd\n",
    "import requests\n",
    "import numpy as np"
   ]
  },
  {
   "cell_type": "markdown",
   "id": "4df71c71-667c-4fa5-b330-f414bdc9543b",
   "metadata": {},
   "source": [
    "The NHL API has no official documentation, but it is somewhat documented at [this repo](https://github.com/Zmalski/NHL-API-Reference)"
   ]
  },
  {
   "cell_type": "code",
   "execution_count": null,
   "id": "60133d88-6cdd-4ba3-b2a6-01219f394469",
   "metadata": {},
   "outputs": [],
   "source": [
    "base_url = 'https://api.nhle.com/stats/rest/en'"
   ]
  },
  {
   "cell_type": "markdown",
   "id": "81829c11-6f22-48e6-b85a-1dffef9158fd",
   "metadata": {},
   "source": [
    "## Getting playoff team stats per season\n",
    "\n",
    "We restrict our timeline to be after the year 2000. We will only include the teams that made the playoffs each season."
   ]
  },
  {
   "cell_type": "code",
   "execution_count": null,
   "id": "47f9c778-d465-4017-8142-448ceae1fc25",
   "metadata": {},
   "outputs": [],
   "source": [
    "def GetTeamStats(start_season=2000, end_season=2025, playoffs=False):\n",
    "\n",
    "    seasons = [f'{start_season + i}{start_season + i + 1}' for i in range(end_season - start_season)]\n",
    "    \n",
    "    cayenneExp = '('\n",
    "    for season in seasons[:-1]:\n",
    "        cayenneExp += f'seasonId={season} or '\n",
    "    cayenneExp += f'seasonId={seasons[-1]})'\n",
    "\n",
    "    # 2 ~ regular season, 3 ~ playoffs\n",
    "    cayenneExp += f' and gameTypeId={3 if playoffs else 2}'\n",
    "\n",
    "    \n",
    "    url = base_url + f'/team/summary?limit=-1&cayenneExp={cayenneExp}'\n",
    "    req = requests.get(url)\n",
    "    \n",
    "    data = req.json()['data']\n",
    "    return pd.json_normalize(data)\n",
    "\n",
    "\n",
    "df = GetTeamStats(playoffs=True)\n",
    "\n",
    "df = df.sort_values('seasonId')\n",
    "df.tail()"
   ]
  },
  {
   "cell_type": "markdown",
   "id": "e34cd668-26d0-4d60-9c4e-26db2603e066",
   "metadata": {},
   "source": [
    "We also want to add each playoff team's regular season statistics. We will do this with a merge with the team name and season id as keys."
   ]
  },
  {
   "cell_type": "code",
   "execution_count": null,
   "id": "3341a393-5632-40bb-a77d-8e628471b197",
   "metadata": {},
   "outputs": [],
   "source": [
    "rs_df = GetTeamStats(playoffs=False)\n",
    "rs_df.tail()\n",
    "\n",
    "df = pd.merge(df, rs_df, on=['teamFullName', 'seasonId'], how='inner', suffixes=['', 'RS'])\n",
    "df = df.drop(['teamIdRS'], axis=1)"
   ]
  },
  {
   "cell_type": "markdown",
   "id": "165c0235-6cc0-4b67-b64f-932aac6d2332",
   "metadata": {},
   "source": [
    "There are some factors we want to include that we can derive from this data.\n",
    "\n",
    "One example is a way to quantify how well a team performed in the playoffs - we can assign a `playoffScore` to each team where\n",
    "- a team that does not make the playoffs or does not win any games in the playoffs has a score of 0\n",
    "- a team that does make the playoffs has a score of their wins divided by the total possible wins\n",
    "- a team that makes the playoffs and wins the cup has a score of 1"
   ]
  },
  {
   "cell_type": "code",
   "execution_count": null,
   "id": "ad24774a-1db3-4e58-90cb-d8500a552251",
   "metadata": {},
   "outputs": [],
   "source": [
    "df['playoffScore'] = df['wins'] / 16\n",
    "df.tail()"
   ]
  },
  {
   "cell_type": "markdown",
   "id": "f31089f0-d8aa-4f3b-a9a6-8b3c1d3c6ac9",
   "metadata": {},
   "source": [
    "We also want to be able to quantify how well a team performed in the playoffs in their recent seasons. We will create a column `last3YearsPlayoffScore` that is a team's total playoff score over the last 3 years."
   ]
  },
  {
   "cell_type": "code",
   "execution_count": null,
   "id": "29745ba5-2b71-4082-af76-ff2701d6026e",
   "metadata": {},
   "outputs": [],
   "source": [
    "df['last3PlayoffScore'] = 0.0\n",
    "\n",
    "for index, team in df.iterrows():\n",
    "\n",
    "    season = int(str(team['seasonId'])[:4])\n",
    "    last3Seasons = [int(f'{season - 3 + s}{season - 3 + s + 1}') for s in range(3)]\n",
    "\n",
    "    data = df[df['seasonId'].isin(last3Seasons)]\n",
    "    data = data[data['teamId'] == team['teamId']]\n",
    "    last3PlayoffScore = data['playoffScore'].sum()\n",
    "\n",
    "    df.loc[index, 'last3PlayoffScore'] = last3PlayoffScore\n",
    "    \n",
    "df.head(100)"
   ]
  },
  {
   "cell_type": "markdown",
   "id": "41d75913-ab41-45e5-9400-9a64a2455bef",
   "metadata": {},
   "source": [
    "We will do the same for the past 5 seasons as well."
   ]
  },
  {
   "cell_type": "code",
   "execution_count": null,
   "id": "444415f6-2716-4ebe-8bea-4e12df087e12",
   "metadata": {},
   "outputs": [],
   "source": [
    "df['last5PlayoffScore'] = 0.0\n",
    "\n",
    "for index, team in df.iterrows():\n",
    "\n",
    "    season = int(str(team['seasonId'])[:4])\n",
    "    last5Seasons = [int(f'{season - 5 + s}{season - 5 + s + 1}') for s in range(5)]\n",
    "\n",
    "    data = df[df['seasonId'].isin(last5Seasons)]\n",
    "    data = data[data['teamId'] == team['teamId']]\n",
    "    last5PlayoffScore = data['playoffScore'].sum()\n",
    "\n",
    "    df.loc[index, 'last5PlayoffScore'] = last5PlayoffScore\n",
    "    \n",
    "df.head(100)"
   ]
  },
  {
   "cell_type": "markdown",
   "id": "36ad34c1-d88a-49b7-b1b2-487c48297fb4",
   "metadata": {},
   "source": [
    "We now want to quantify how a team performed in the regular season against 'good' teams - teams above a .500 win percentage."
   ]
  },
  {
   "cell_type": "code",
   "execution_count": null,
   "id": "dd620c1e-e175-44a6-b9a7-dd728ce12c0e",
   "metadata": {},
   "outputs": [],
   "source": [
    "def GetTeamGamesBySeason(teamId: int, season: int):\n",
    "\n",
    "    cayenneExp = f'(homeTeamId={teamId} or visitingTeamId={teamId}) and season={season} and gameType=2'\n",
    "    \n",
    "    url = base_url + f'/game?cayenneExp={cayenneExp}'\n",
    "    req = requests.get(url)\n",
    "    \n",
    "    data = req.json()['data']\n",
    "    return pd.json_normalize(data)\n",
    "\n",
    "# e.g. Florida\n",
    "GetTeamGamesBySeason(13, 20232024).head()"
   ]
  },
  {
   "cell_type": "code",
   "execution_count": null,
   "id": "629f3a8b-ea96-471f-8811-0d7bbcf90b11",
   "metadata": {},
   "outputs": [],
   "source": [
    "def GetTeamsAbove500BySeason(season: int):\n",
    "    \n",
    "    cayenneExp = f'seasonId={season}'\n",
    "    \n",
    "    url = base_url + f'/team/summary?limit=-1&cayenneExp={cayenneExp}'\n",
    "    req = requests.get(url)\n",
    "    \n",
    "    data = req.json()['data']\n",
    "    df = pd.json_normalize(data)\n",
    "\n",
    "    df = df[df['wins'] / df['gamesPlayed'] >= 0.5]\n",
    "    return df"
   ]
  },
  {
   "cell_type": "code",
   "execution_count": null,
   "id": "705c0595-cfa0-4981-bac9-8004b35bc3b6",
   "metadata": {},
   "outputs": [],
   "source": [
    "df['winRateAgainst500Teams'] = 0.0\n",
    "\n",
    "for index, team in df.iterrows():\n",
    "    teamGames = GetTeamGamesBySeason(teamId=team['teamId'], season=team['seasonId'])\n",
    "    above500Teams = GetTeamsAbove500BySeason(team['seasonId'])\n",
    "\n",
    "    homeCondition = (teamGames['homeTeamId'] == team['teamId']) & (teamGames['visitingTeamId'].isin(above500Teams['teamId']) & (teamGames['homeScore'] > teamGames['visitingScore']))\n",
    "    awayCondition = (teamGames['visitingTeamId'] == team['teamId']) & (teamGames['homeTeamId'].isin(above500Teams['teamId']) & (teamGames['homeScore'] < teamGames['visitingScore']))\n",
    "    \n",
    "    winsAgainst500Teams = len(teamGames[homeCondition | awayCondition])\n",
    "    gamesPlayed = len(teamGames)\n",
    "    winRate = winsAgainst500Teams / gamesPlayed\n",
    "\n",
    "    df.loc[index, 'winRateAgainst500Teams'] = winRate\n",
    "        \n",
    "df.head()"
   ]
  },
  {
   "cell_type": "code",
   "execution_count": null,
   "id": "cf838c95-1731-48ec-90b4-063115fbf948",
   "metadata": {},
   "outputs": [],
   "source": [
    "# save to csv\n",
    "df.to_csv('NHLTeamPlayoffStats.csv')"
   ]
  },
  {
   "cell_type": "markdown",
   "id": "b5071959-b8de-4501-aee9-bad7f6777de8",
   "metadata": {},
   "source": [
    "We will also get this years (2024-25) team statistics and save it in a separate file"
   ]
  },
  {
   "cell_type": "code",
   "execution_count": null,
   "id": "2fc73998-5360-4e3f-a4a9-b745da913bb5",
   "metadata": {},
   "outputs": [],
   "source": [
    "df.head()"
   ]
  },
  {
   "cell_type": "code",
   "execution_count": null,
   "id": "7cc15d75-7435-4664-9538-ce2f0e967c21",
   "metadata": {},
   "outputs": [],
   "source": [
    "df_25 = GetTeamStats(start_season=2024, end_season=2026, playoffs=False)\n",
    "df_25.head()"
   ]
  },
  {
   "cell_type": "code",
   "execution_count": null,
   "id": "05d923cf-fdfb-4ebb-9ca4-47746c1312a2",
   "metadata": {},
   "outputs": [],
   "source": [
    "for key in df_25.keys():\n",
    "    if key not in ['seasonId', 'teamFullName', 'teamId']:\n",
    "        df_25 = df_25.rename(columns={key: f'{key}RS'})"
   ]
  },
  {
   "cell_type": "code",
   "execution_count": null,
   "id": "75fc6b35-d3cc-4b7a-bfac-733517e28fcb",
   "metadata": {},
   "outputs": [],
   "source": [
    "df_25.keys()"
   ]
  },
  {
   "cell_type": "code",
   "execution_count": null,
   "id": "54af2cd2-0a0f-497a-8d5d-566aa8d338ec",
   "metadata": {},
   "outputs": [],
   "source": [
    "df_25['last3PlayoffScore'] = 0.0\n",
    "\n",
    "for index, team in df_25.iterrows():\n",
    "\n",
    "    season = int(str(team['seasonId'])[:4])\n",
    "    last3Seasons = [int(f'{season - 3 + s}{season - 3 + s + 1}') for s in range(3)]\n",
    "\n",
    "    data = df[df['seasonId'].isin(last3Seasons)]\n",
    "    data = data[data['teamId'] == team['teamId']]\n",
    "    last3PlayoffScore = data['playoffScore'].sum()\n",
    "\n",
    "    df_25.loc[index, 'last3PlayoffScore'] = last3PlayoffScore\n",
    "    \n",
    "df_25.head(16)"
   ]
  },
  {
   "cell_type": "code",
   "execution_count": null,
   "id": "441cee39-bdac-43fe-916e-3c70f46a8576",
   "metadata": {},
   "outputs": [],
   "source": [
    "df_25['last5PlayoffScore'] = 0.0\n",
    "\n",
    "for index, team in df_25.iterrows():\n",
    "\n",
    "    season = int(str(team['seasonId'])[:4])\n",
    "    last5Seasons = [int(f'{season - 5 + s}{season - 5 + s + 1}') for s in range(5)]\n",
    "\n",
    "    data = df[df['seasonId'].isin(last5Seasons)]\n",
    "    data = data[data['teamId'] == team['teamId']]\n",
    "    last5PlayoffScore = data['playoffScore'].sum()\n",
    "\n",
    "    df_25.loc[index, 'last5PlayoffScore'] = last5PlayoffScore\n",
    "    \n",
    "df_25.head(16)"
   ]
  },
  {
   "cell_type": "code",
   "execution_count": null,
   "id": "d41e8ae3-dbc3-444c-bf14-8619339ec3a0",
   "metadata": {},
   "outputs": [],
   "source": [
    "df_25['winRateAgainst500Teams'] = 0.0\n",
    "\n",
    "for index, team in df_25.iterrows():\n",
    "    teamGames = GetTeamGamesBySeason(teamId=team['teamId'], season=team['seasonId'])\n",
    "    above500Teams = GetTeamsAbove500BySeason(team['seasonId'])\n",
    "\n",
    "    homeCondition = (teamGames['homeTeamId'] == team['teamId']) & (teamGames['visitingTeamId'].isin(above500Teams['teamId']) & (teamGames['homeScore'] > teamGames['visitingScore']))\n",
    "    awayCondition = (teamGames['visitingTeamId'] == team['teamId']) & (teamGames['homeTeamId'].isin(above500Teams['teamId']) & (teamGames['homeScore'] < teamGames['visitingScore']))\n",
    "    \n",
    "    winsAgainst500Teams = len(teamGames[homeCondition | awayCondition])\n",
    "    gamesPlayed = len(teamGames)\n",
    "    winRate = winsAgainst500Teams / gamesPlayed\n",
    "\n",
    "    df_25.loc[index, 'winRateAgainst500Teams'] = winRate\n",
    "        \n",
    "df_25.head()"
   ]
  },
  {
   "cell_type": "code",
   "execution_count": null,
   "id": "91527173-4b37-44e0-891c-6d50046bfb54",
   "metadata": {},
   "outputs": [],
   "source": [
    "df_25.to_csv('2025TeamStats.csv')"
   ]
  },
  {
   "cell_type": "code",
   "execution_count": null,
   "id": "8c2bb987-55e3-4cbb-b164-2002af388ee3",
   "metadata": {},
   "outputs": [],
   "source": []
  }
 ],
 "metadata": {
  "kernelspec": {
   "display_name": "Python 3 (ipykernel)",
   "language": "python",
   "name": "python3"
  },
  "language_info": {
   "codemirror_mode": {
    "name": "ipython",
    "version": 3
   },
   "file_extension": ".py",
   "mimetype": "text/x-python",
   "name": "python",
   "nbconvert_exporter": "python",
   "pygments_lexer": "ipython3",
   "version": "3.10.11"
  }
 },
 "nbformat": 4,
 "nbformat_minor": 5
}
