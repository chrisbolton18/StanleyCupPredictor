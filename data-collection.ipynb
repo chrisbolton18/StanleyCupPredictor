{
 "cells": [
  {
   "cell_type": "code",
   "execution_count": 3,
   "id": "b87a6390-011c-4962-a400-b80a60ad0ba5",
   "metadata": {},
   "outputs": [],
   "source": [
    "import pandas as pd\n",
    "import requests\n",
    "import numpy as np"
   ]
  },
  {
   "cell_type": "code",
   "execution_count": 11,
   "id": "60133d88-6cdd-4ba3-b2a6-01219f394469",
   "metadata": {},
   "outputs": [],
   "source": [
    "base_url = 'https://api-web.nhle.com/v1'"
   ]
  },
  {
   "cell_type": "code",
   "execution_count": 27,
   "id": "47f9c778-d465-4017-8142-448ceae1fc25",
   "metadata": {},
   "outputs": [
    {
     "data": {
      "text/plain": [
       "dict_keys(['season', 'gameType', 'skaters', 'goalies'])"
      ]
     },
     "execution_count": 27,
     "metadata": {},
     "output_type": "execute_result"
    }
   ],
   "source": [
    "def GetTeamSeasonStats(team_abbrev):\n",
    "    url = f'{base_url}/club-stats/{team_abbrev}/now'\n",
    "    req = requests.get(url)\n",
    "    return req.json()\n",
    "\n",
    "\n",
    "GetTeamSeasonStats('TOR').keys()"
   ]
  },
  {
   "cell_type": "code",
   "execution_count": null,
   "id": "ad24774a-1db3-4e58-90cb-d8500a552251",
   "metadata": {},
   "outputs": [],
   "source": []
  }
 ],
 "metadata": {
  "kernelspec": {
   "display_name": "Python [conda env:base] *",
   "language": "python",
   "name": "conda-base-py"
  },
  "language_info": {
   "codemirror_mode": {
    "name": "ipython",
    "version": 3
   },
   "file_extension": ".py",
   "mimetype": "text/x-python",
   "name": "python",
   "nbconvert_exporter": "python",
   "pygments_lexer": "ipython3",
   "version": "3.12.7"
  }
 },
 "nbformat": 4,
 "nbformat_minor": 5
}
