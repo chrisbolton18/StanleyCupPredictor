





import pandas as pd
import matplotlib.pyplot as plt
import numpy as np
import seaborn as sns
import ipywidgets
%config InlineBackend.figure_format = 'retina'
plt.rcParams["figure.figsize"] = (8,3)





df = pd.read_csv('NHLTeamPlayoffStats.csv')
df.info()





df['seasonId'].unique()





df = df[df['seasonId'] != 20122013]
df = df[df['seasonId'] != 20192020]
df = df[df['seasonId'] != 20202021]
seasons = df['seasonId'].unique()
seasons





# rename id column
df = df.rename(columns={'Unnamed: 0': 'id'});

df = df.drop(['otLosses', 
              'ties', 
              'winsInRegulation', 
              'regulationAndOtWins', 
              'winsInShootout', 
              'points', 
              'pointPct', 
              'tiesRS',
              'regulationAndOtWinsRS',
              'winsInRegulationRS',
              'winsInShootoutRS',
              'otLossesRS'], axis=1)
df.describe()





df[df['playoffScore'] == 1.0][['teamFullName', 'seasonId']]





smin = int(str(seasons[0])[:4])
smax = int(str(seasons[-1])[:4])

@ipywidgets.interact(season=(smin,smax))
def disp(season=smin):
    seasonId = int(f'{season}{season+1}')
    print(f'Season: {seasonId}')
    
    df_season = df[df['seasonId'] == seasonId]
    
    plt.scatter(df_season['teamFullName'], df_season['playoffScore'])
    plt.xlabel('team')
    plt.ylabel('playoffScore')
    plt.xticks(rotation=60, ha='right')
    plt.ylim(-0.2,1.2)
    
    return





chi_df = df[df['teamFullName'] == 'Chicago Blackhawks']
pit_df = df[df['teamFullName'] == 'Pittsburgh Penguins']
colors = ['red', 'goldenrod']

for t_df, color in zip([chi_df, pit_df],colors):
    plt.figure()
    plt.title(t_df['teamFullName'].iloc[0])
    plt.xlabel('season')
    plt.ylabel('score')
    plt.xticks(rotation=45, ha='right')
    plt.scatter(t_df['seasonId'].astype(str), t_df['playoffScore'], label='Playoff Score', color=color)
    plt.plot(t_df['seasonId'].astype(str), t_df['last3PlayoffScore'], label='Last 3 year playoff score', color='rosybrown')
    plt.plot(t_df['seasonId'].astype(str), t_df['last5PlayoffScore'], label='Last 5 year playoff score', color='black')
    plt.legend();





def playoffScoreCorrPlt(p_df, s=2):
    # don't include these features
    exclude = ['id', 'teamFullName', 'seasonId', 'teamId', 'playoffScore']
    keys = [key for key in p_df.keys() if key not in exclude]
    
    # for grid of plots
    plt_cols = 3
    plt_rows = int(np.ceil(len(keys) / plt_cols))
    fig, ax = plt.subplots(plt_rows, plt_cols, figsize=(12,18))
    fig.tight_layout()
    ax = ax.flatten()
    
    for i,key in enumerate(keys):
        ax[i].scatter(p_df[key], p_df['playoffScore'], s=s)
        ax[i].set(xlabel=key, ylabel='playoffScore' if i % plt_cols == 0 else '')

playoffScoreCorrPlt(df)





# for when we lookup team names later
team_names = df[['teamId', 'teamFullName']].drop_duplicates()

# drop directly or not correlated features
df = df.drop(['gamesPlayedRS', 'wins', 'losses', 'goalsFor', 'goalsAgainst', 'gamesPlayed', 'teamFullName'], axis=1)

# drop playoff features
df = df.drop(['faceoffWinPct', 'goalsAgainstPerGame', 'goalsForPerGame', 
              'penaltyKillNetPct', 'penaltyKillPct', 'powerPlayNetPct',
              'powerPlayPct', 'shotsAgainstPerGame', 'shotsForPerGame'], axis=1)

team_names








from sklearn.model_selection import train_test_split, GroupShuffleSplit

gss = GroupShuffleSplit(test_size=0.25)
X = df.drop('playoffScore', axis=1)
y = df['playoffScore']
split = gss.split(X, y, groups=df['seasonId'])

train, test = next(split)
train, test = df.iloc[train], df.iloc[test]

X_train = train.drop('playoffScore', axis=1)
X_test = test.drop('playoffScore', axis=1)
y_train = train['playoffScore']
y_test = test['playoffScore']

print(f'X_train shape: {X_train.shape}')
print(f'X_test shape: {X_test.shape}')
print(f'y_train shape: {y_train.shape}')
print(f'y_test shape: {y_test.shape}')

[x for x in X_train['seasonId'].unique() if x in X_test['seasonId'].unique()]





from sklearn.preprocessing import StandardScaler

scaler = StandardScaler().fit(X_train)

X_train_scaled = scaler.transform(X_train)
X_test_scaled = scaler.transform(X_test)





from sklearn.linear_model import Lasso

alphas = [0.07, 0.1, 0.5, 1, 2]
for alpha in alphas:
    lasso = Lasso(alpha=alpha).fit(X_train, y_train)

    train_score = lasso.score(X_train, y_train)
    test_score  = lasso.score(X_test, y_test)

    print(f'Lasso with α = {alpha} outputted scores of (train, test) = ({train_score:.3f}, {test_score:.3f})')








from sklearn.svm import SVR

gammas = ['scale', 0.01, 0.1, 1]

Cs = [0.1, 1, 2]

for gamma in gammas:
    for C in Cs:
        svr = SVR(gamma=gamma, C=C).fit(X_train_scaled, y_train)

        train_score = svr.score(X_train_scaled, y_train)
        test_score  = svr.score(X_test_scaled, y_test)

        print(f'SVR with γ = {gamma}, C = {C} outputted scores of (train, test) = ({train_score:.3f}, {test_score:.3f})')
    print()








from sklearn.ensemble import GradientBoostingRegressor

gbr = GradientBoostingRegressor().fit(X_train_scaled, y_train)

gbr.score(X_train_scaled, y_train), gbr.score(X_test_scaled, y_test)





# learning rates
LRs = [0.01, 0.1, 0.5, 1.0]

# n_estimators
NEs = [20, 50, 100, 250, 300]

for learning_rate in LRs:
    for n_estimators in NEs:
        gbr = GradientBoostingRegressor(learning_rate=learning_rate, n_estimators=n_estimators).fit(X_train_scaled, y_train)
    
        train_score = gbr.score(X_train_scaled, y_train)
        test_score = gbr.score(X_test_scaled, y_test)
    
        print(f'GBR with learning_rate = {learning_rate}, n_estimators = {n_estimators} outputted scores of (train, test) = ({train_score:.3f}, {test_score:.3f})')
    print()





df['playoffScore'] = df['playoffScore'].apply(lambda x: 1 if x == 1 else 0)





from sklearn.pipeline import make_pipeline
from sklearn.ensemble import GradientBoostingClassifier

pipeline = make_pipeline(
    StandardScaler(),
    GradientBoostingClassifier()    
)


from sklearn.model_selection import GridSearchCV

param_grid = {
    'gradientboostingclassifier__max_depth': [1, 2, 3],
    'gradientboostingclassifier__n_estimators': [10, 50, 100, 200],
    'gradientboostingclassifier__learning_rate': [0.001, 0.001, 0.01, 0.1, 0.2, 0.3],
}

grid = GridSearchCV(pipeline, cv=5, param_grid=param_grid)
grid.fit(X_train, y_train)
print(f'Score: {grid.best_score_} and Params: {grid.best_params_}')


grid.score(X_test, y_test)





scaler = StandardScaler().fit(X_train)

X_train_scaled = scaler.transform(X_train)
X_test_scaled = scaler.transform(X_test)


model = GradientBoostingClassifier(n_estimators=200, learning_rate=0.01, max_depth=1).fit(X_train_scaled, y_train)

model.score(X_train_scaled, y_train), model.score(X_test_scaled, y_test)


df_24 = df[df['seasonId'] == 20102011]
df_24.head()


df_24 = df_24.drop('playoffScore', axis=1)
df_24 = scaler.transform(df_24)
model.predict(df_24)


















